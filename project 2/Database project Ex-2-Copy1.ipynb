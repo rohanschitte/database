{
 "cells": [
  {
   "cell_type": "markdown",
   "metadata": {
    "id": "SXYuY7wym6D1"
   },
   "source": [
    "DBS Project task-2"
   ]
  },
  {
   "cell_type": "code",
   "execution_count": 1,
   "metadata": {
    "id": "2UaLeai0m5GY"
   },
   "outputs": [],
   "source": [
    "import numpy as np\n",
    "import pandas as pd"
   ]
  },
  {
   "cell_type": "code",
   "execution_count": 2,
   "metadata": {},
   "outputs": [],
   "source": [
    "#Reading csv files into dataframe\n",
    "category = pd.read_csv(r'/users/rohanchitte/downloads/data-2/category.csv')\n",
    "date_tab = pd.read_csv(r'/users/rohanchitte/downloads/data-2/date_table.csv')\n",
    "event = pd.read_csv(r'/users/rohanchitte/downloads/data-2/event.csv')\n",
    "sales = pd.read_csv(r'/users/rohanchitte/downloads/data-2/sales.csv')\n",
    "venue = pd.read_csv(r'/users/rohanchitte/downloads/data-2/venue.csv')"
   ]
  },
  {
   "cell_type": "code",
   "execution_count": 3,
   "metadata": {
    "colab": {
     "base_uri": "https://localhost:8080/"
    },
    "id": "CXE1Ele5siYF",
    "outputId": "4309593c-3f63-467a-f185-b1f955cf2069"
   },
   "outputs": [
    {
     "name": "stdout",
     "output_type": "stream",
     "text": [
      "venueid        0\n",
      "venuename      0\n",
      "venuecity      0\n",
      "venuestate     0\n",
      "venueseats    15\n",
      "dtype: int64\n",
      "catid       0\n",
      "catgroup    0\n",
      "catname     0\n",
      "catdesc     0\n",
      "dtype: int64\n",
      "dateid     0\n",
      "caldate    0\n",
      "day        0\n",
      "week       0\n",
      "month      0\n",
      "qtr        0\n",
      "year       0\n",
      "holiday    0\n",
      "dtype: int64\n",
      "eventid      0\n",
      "venueid      0\n",
      "catid        0\n",
      "dateid       0\n",
      "eventname    0\n",
      "starttime    0\n",
      "dtype: int64\n",
      "salesid       0\n",
      "listid        0\n",
      "sellerid      0\n",
      "buyerid       0\n",
      "eventid       0\n",
      "dateid        0\n",
      "qtysold       0\n",
      "pricepaid     0\n",
      "commission    0\n",
      "saletime      0\n",
      "dtype: int64\n"
     ]
    }
   ],
   "source": [
    "print(venue.isnull().sum())\n",
    "print(category.isnull().sum())\n",
    "print(date_tab.isnull().sum())\n",
    "print(event.isnull().sum())\n",
    "print(sales.isnull().sum())"
   ]
  },
  {
   "cell_type": "code",
   "execution_count": 9,
   "metadata": {},
   "outputs": [],
   "source": [
    "mean_value=venue['venueseats'].mean()"
   ]
  },
  {
   "cell_type": "code",
   "execution_count": 10,
   "metadata": {},
   "outputs": [
    {
     "data": {
      "text/plain": [
       "16204.163366336634"
      ]
     },
     "execution_count": 10,
     "metadata": {},
     "output_type": "execute_result"
    }
   ],
   "source": [
    "mean_value"
   ]
  },
  {
   "cell_type": "code",
   "execution_count": 4,
   "metadata": {},
   "outputs": [
    {
     "name": "stdout",
     "output_type": "stream",
     "text": [
      "130\n"
     ]
    }
   ],
   "source": [
    "# 130/200 values are 0, so we will replace null values with 0. \n",
    "#Moreover, the objective of visualization does not deal with venueseats. \n",
    "#So, data imputation becomes irrelevant. \n",
    "venueseats = venue['venueseats']\n",
    "count = 0\n",
    "for i in venueseats:\n",
    "    if i == 0:\n",
    "        count = count + 1\n",
    "print(count)  #130\n"
   ]
  },
  {
   "cell_type": "code",
   "execution_count": 5,
   "metadata": {},
   "outputs": [],
   "source": [
    "#Data Imputation\n",
    "venue['venueseats'] = venue['venueseats'].fillna(0)"
   ]
  },
  {
   "cell_type": "code",
   "execution_count": null,
   "metadata": {},
   "outputs": [],
   "source": [
    "#Importing Data"
   ]
  },
  {
   "cell_type": "code",
   "execution_count": 6,
   "metadata": {},
   "outputs": [],
   "source": [
    "from sqlalchemy import create_engine\n",
    "engine = create_engine('postgresql://:@localhost:5432/databaseproject')"
   ]
  },
  {
   "cell_type": "code",
   "execution_count": 7,
   "metadata": {},
   "outputs": [],
   "source": [
    "sales.to_sql('sales', engine)\n",
    "venue.to_sql('venue', engine)\n",
    "event.to_sql('event', engine)\n",
    "date_tab.to_sql('date_table', engine)\n",
    "category.to_sql('category', engine)"
   ]
  },
  {
   "cell_type": "code",
   "execution_count": 8,
   "metadata": {},
   "outputs": [
    {
     "data": {
      "text/plain": [
       "172456"
      ]
     },
     "execution_count": 8,
     "metadata": {},
     "output_type": "execute_result"
    }
   ],
   "source": [
    "#Running an sql query to test the import of the sales table\n",
    "conn = engine.raw_connection()\n",
    "cur = conn.cursor()\n",
    "cur.execute('Select salesid FROM sales')\n",
    "salesid = cur.fetchall()\n",
    "len(salesid)\n"
   ]
  }
 ],
 "metadata": {
  "colab": {
   "collapsed_sections": [],
   "name": "CaseStudy.ipynb",
   "provenance": []
  },
  "kernelspec": {
   "display_name": "Python 3",
   "language": "python",
   "name": "python3"
  },
  "language_info": {
   "codemirror_mode": {
    "name": "ipython",
    "version": 3
   },
   "file_extension": ".py",
   "mimetype": "text/x-python",
   "name": "python",
   "nbconvert_exporter": "python",
   "pygments_lexer": "ipython3",
   "version": "3.8.5"
  }
 },
 "nbformat": 4,
 "nbformat_minor": 1
}
